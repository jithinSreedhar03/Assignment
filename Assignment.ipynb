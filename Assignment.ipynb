{
  "nbformat": 4,
  "nbformat_minor": 0,
  "metadata": {
    "colab": {
      "name": "Assignment.ipynb",
      "provenance": [],
      "collapsed_sections": [],
      "authorship_tag": "ABX9TyOpwTqUBC8uCmXyG0ohXGNt",
      "include_colab_link": true
    },
    "kernelspec": {
      "name": "python3",
      "display_name": "Python 3"
    }
  },
  "cells": [
    {
      "cell_type": "markdown",
      "metadata": {
        "id": "view-in-github",
        "colab_type": "text"
      },
      "source": [
        "<a href=\"https://colab.research.google.com/github/jithinSreedhar03/Assignment/blob/main/Assignment.ipynb\" target=\"_parent\"><img src=\"https://colab.research.google.com/assets/colab-badge.svg\" alt=\"Open In Colab\"/></a>"
      ]
    },
    {
      "cell_type": "code",
      "metadata": {
        "colab": {
          "base_uri": "https://localhost:8080/"
        },
        "id": "FGGSLiqnoAQW",
        "outputId": "25ba42f4-d13e-4d2e-a81b-bebd38f498f3"
      },
      "source": [
        "b=[]\n",
        "for i in range(0,4):\n",
        "    a=int(input(\"Number: \"))\n",
        "    b.append(a)\n",
        "sum1=0\n",
        "sum2=0\n",
        "avg1=0\n",
        "avg2=0\n",
        "count1=0\n",
        "count2=0\n",
        "for j in b:\n",
        "    if(j>0):\n",
        "      \n",
        "      sum1=sum1+j\n",
        "      count1=count1+1\n",
        " \n",
        "    else:\n",
        "        sum2=sum2+j\n",
        "        count2=count2+1\n",
        " \n",
        "avg1=sum1/count1\n",
        "avg2=sum2/count2\n",
        "        \n",
        "print(\"Sum of  positive numbers:\",sum1,\",Average=\",avg1)\n",
        "print(\"Sum of  Negative numbers:\",sum2,\",Average=\",avg2)"
      ],
      "execution_count": null,
      "outputs": [
        {
          "output_type": "stream",
          "text": [
            "Number: -1\n",
            "Number: 1\n",
            "Number: -2\n",
            "Number: 3\n",
            "Sum of  positive numbers: 4 ,Average= 2.0\n",
            "Sum of  Negative numbers: -3 ,Average= -1.5\n"
          ],
          "name": "stdout"
        }
      ]
    },
    {
      "cell_type": "markdown",
      "metadata": {
        "id": "ct8xTOHpow5k"
      },
      "source": [
        "2"
      ]
    },
    {
      "cell_type": "code",
      "metadata": {
        "colab": {
          "base_uri": "https://localhost:8080/"
        },
        "id": "ePhXx4aAqxWe",
        "outputId": "72120433-1ea2-4729-b4e3-903b7b0a21af"
      },
      "source": [
        "string = input(\"input string:\")\n",
        "frequencies = {} \n",
        "  \n",
        "for char in string: \n",
        "   if char in frequencies: \n",
        "      frequencies[char] += 1\n",
        "   else: \n",
        "      frequencies[char] = 1\n",
        " \n",
        "print (\"Per char frequency in '{}' is :\\n {}\".format(string, str(frequencies)))"
      ],
      "execution_count": null,
      "outputs": [
        {
          "output_type": "stream",
          "text": [
            "input string:Hii\n",
            "Per char frequency in 'Hii' is :\n",
            " {'H': 1, 'i': 2}\n"
          ],
          "name": "stdout"
        }
      ]
    },
    {
      "cell_type": "markdown",
      "metadata": {
        "id": "7xmqycb9sTde"
      },
      "source": [
        "3"
      ]
    },
    {
      "cell_type": "code",
      "metadata": {
        "colab": {
          "base_uri": "https://localhost:8080/"
        },
        "id": "eBIOVZg_vBuh",
        "outputId": "bb596447-1ee4-4311-af5f-69e8f64453eb"
      },
      "source": [
        "unsorted_list =[3,1,5,2]\n",
        "sorted_list=[]\n",
        "while unsorted_list:\n",
        "     minimum = unsorted_list[0]\n",
        "     for item in unsorted_list:\n",
        "           if item < minimum:\n",
        "              minimum = item\n",
        "     sorted_list.append(minimum)\n",
        "     unsorted_list.remove(minimum)\n",
        " \n",
        "print(sorted_list)"
      ],
      "execution_count": null,
      "outputs": [
        {
          "output_type": "stream",
          "text": [
            "[1, 2, 3, 5]\n"
          ],
          "name": "stdout"
        }
      ]
    },
    {
      "cell_type": "markdown",
      "metadata": {
        "id": "_qpqY-8YvCmM"
      },
      "source": [
        " 4"
      ]
    },
    {
      "cell_type": "code",
      "metadata": {
        "colab": {
          "base_uri": "https://localhost:8080/"
        },
        "id": "NgMXlloBsXQ8",
        "outputId": "24cfaf98-6aa7-45b3-be2a-5e0b61315aa3"
      },
      "source": [
        "def isPalindrome(a):\n",
        " \n",
        "    return a == a[::-1]\n",
        " \n",
        "a=input(\"enter the string :\")\n",
        " \n",
        "j =  isPalindrome(a)\n",
        " \n",
        " \n",
        "if j:\n",
        " \n",
        "    print(\"Yes, it is palindrome\")\n",
        " \n",
        "else:\n",
        " \n",
        "    print(\"No, it is not palindrome\")"
      ],
      "execution_count": null,
      "outputs": [
        {
          "output_type": "stream",
          "text": [
            "enter the string :malayalam\n",
            "Yes, it is palindrome\n"
          ],
          "name": "stdout"
        }
      ]
    },
    {
      "cell_type": "markdown",
      "metadata": {
        "id": "XIh6Ymj3u5Kt"
      },
      "source": [
        "5"
      ]
    },
    {
      "cell_type": "code",
      "metadata": {
        "colab": {
          "base_uri": "https://localhost:8080/"
        },
        "id": "7a6bruYiwgmU",
        "outputId": "2e9d160a-19ed-4070-fabf-9f6667087222"
      },
      "source": [
        "import math\n",
        "def fact(a):\n",
        "   if a<=1:\n",
        "     return 1\n",
        "   else:\n",
        "     return a* fact(a-1)\n",
        " \n",
        "step=int(input(\"no of terms :\"))\n",
        "x=int(input(\"enter the value :\"))\n",
        "sum=0\n",
        "for i in range(step+1):\n",
        "   sum+=(math.pow(-1,i)*math.pow(x,2*i+1))/fact(2*i+1)\n",
        "print(\"The result of sin(\",step,\")\",sum)"
      ],
      "execution_count": null,
      "outputs": [
        {
          "output_type": "stream",
          "text": [
            " no of terms :4\n",
            "enter the value :1\n",
            "The result of sin( 4 ) 0.8414710097001764\n"
          ],
          "name": "stdout"
        }
      ]
    },
    {
      "cell_type": "markdown",
      "metadata": {
        "id": "2Kmi-k9QxvqG"
      },
      "source": [
        "6"
      ]
    },
    {
      "cell_type": "code",
      "metadata": {
        "colab": {
          "base_uri": "https://localhost:8080/"
        },
        "id": "1mxczCBsxxOu",
        "outputId": "5379044a-fcde-41a5-bb3a-b187945bd6f1"
      },
      "source": [
        " \n",
        "password=input(\"Enter the password :\")\n",
        "upper=False\n",
        "lower=False\n",
        "number=False\n",
        "special=False\n",
        "num=['0','1','2','3','4','5','6','7','8','9']\n",
        " \n",
        "if len(password)<6:\n",
        "   print(\"Password length is too short, minimum length should 6\")\n",
        "else:\n",
        "   for i in password:\n",
        "      if i.isupper()==True:\n",
        "         upper=True\n",
        "      elif i in num:\n",
        "         number=True\n",
        "      elif i.islower()==True:\n",
        "         lower=True\n",
        "      elif i==\"$\" or i==\"#\" or i==\"@\":\n",
        "         special=True\n",
        "if upper==True and lower==True and number==True and special==True:\n",
        "   print(\"Password accepted\")\n",
        "else:\n",
        "   print(\"Password not accepted\")"
      ],
      "execution_count": null,
      "outputs": [
        {
          "output_type": "stream",
          "text": [
            "Enter the password :jithu@123\n",
            "Password not accepted\n"
          ],
          "name": "stdout"
        }
      ]
    }
  ]
}